{
 "cells": [
  {
   "cell_type": "code",
   "execution_count": 46,
   "metadata": {},
   "outputs": [],
   "source": [
    "import requests\n",
    "from bs4 import BeautifulSoup\n",
    "import csv\n",
    "\n",
    "URL=\"https://www.keepinspiring.me/inspirational-quotes/\"\n",
    "r = requests.get(URL)\n",
    "\n",
    "soup = BeautifulSoup(r.content, 'html.parser')\n",
    "#print(soup) '''display entire website code '''\n",
    "store=[]\n",
    "quote=''\n",
    "for quote in soup.find_all('blockquote',attrs = {'class':'wp-block-quote is-style-large'} ):\n",
    "    quote_d={}\n",
    "    \n",
    "    quote_d['author']=quote.cite.get_text() #get the author name\n",
    "    quote_d['quotation']=quote.p.get_text() #get the quotation \n",
    "    \n",
    "    store.append(quote_d)\n",
    "    \n",
    "filename = 'inspirational_quote.csv' #store the author and respective quote in csv file\n",
    "with open(filename, 'w', newline='') as f:\n",
    "    w = csv.DictWriter(f,['author','quotation'])\n",
    "    w.writeheader()\n",
    "    for quote in store:\n",
    "        w.writerow(quote)\n"
   ]
  },
  {
   "cell_type": "code",
   "execution_count": null,
   "metadata": {},
   "outputs": [],
   "source": []
  }
 ],
 "metadata": {
  "kernelspec": {
   "display_name": "Python 3",
   "language": "python",
   "name": "python3"
  },
  "language_info": {
   "codemirror_mode": {
    "name": "ipython",
    "version": 3
   },
   "file_extension": ".py",
   "mimetype": "text/x-python",
   "name": "python",
   "nbconvert_exporter": "python",
   "pygments_lexer": "ipython3",
   "version": "3.7.4"
  }
 },
 "nbformat": 4,
 "nbformat_minor": 2
}
